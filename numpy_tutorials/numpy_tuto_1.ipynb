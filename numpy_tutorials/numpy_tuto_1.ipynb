{
 "cells": [
  {
   "cell_type": "markdown",
   "id": "fde31dac",
   "metadata": {},
   "source": [
    "numpy basics"
   ]
  },
  {
   "cell_type": "code",
   "execution_count": 1,
   "id": "77998fae",
   "metadata": {},
   "outputs": [],
   "source": [
    "import numpy as np"
   ]
  },
  {
   "cell_type": "markdown",
   "id": "e22ae113",
   "metadata": {},
   "source": [
    "#creating different dimentional array"
   ]
  },
  {
   "cell_type": "code",
   "execution_count": null,
   "id": "1de290f0",
   "metadata": {},
   "outputs": [
    {
     "name": "stdout",
     "output_type": "stream",
     "text": [
      "1 dimentional array \n",
      " [1 2 3 4 5]\n",
      "2 dimentional array \n",
      " [[1 2 3]\n",
      " [4 5 6]]\n",
      "3 dimentional array \n",
      " [[[1 2 3]\n",
      "  [4 5 6]\n",
      "  [7 8 9]]]\n"
     ]
    }
   ],
   "source": [
    "#1D array also known as vector\n",
    "array_1_d = np.array([1,2,3,4,5])\n",
    "print(\"1 dimentional array \\n\", array_1_d)\n",
    "\n",
    "#2D array is also known as matrix\n",
    "array_2_d = np.array([[1,2,3],[4,5,6]])\n",
    "print(\"2 dimentional array \\n\", array_2_d)\n",
    "\n",
    "#3D array is also known as tensor\n",
    "array_3_d = np.array([[[1,2,3],[4,5,6],[7,8,9]]])\n",
    "print(\"3 dimentional array \\n\", array_3_d)"
   ]
  },
  {
   "cell_type": "markdown",
   "id": "cf675e92",
   "metadata": {},
   "source": [
    "list vs array"
   ]
  },
  {
   "cell_type": "code",
   "execution_count": 4,
   "id": "c8fe8267",
   "metadata": {},
   "outputs": [
    {
     "name": "stdout",
     "output_type": "stream",
     "text": [
      "after multiplying a scaler with list : [1, 2, 3, 1, 2, 3]\n",
      "after multiplying a scaler with array : [2 4 6]\n"
     ]
    }
   ],
   "source": [
    "list_any = [1,2,3]\n",
    "print(\"after multiplying a scaler with list :\", list_any * 2)\n",
    "\n",
    "array_any = np.array(list_any)\n",
    "print(\"after multiplying a scaler with array :\", array_any * 2)"
   ]
  },
  {
   "cell_type": "markdown",
   "id": "a15fea08",
   "metadata": {},
   "source": [
    "creating different types of matrices"
   ]
  },
  {
   "cell_type": "code",
   "execution_count": 14,
   "id": "c4afdd38",
   "metadata": {},
   "outputs": [
    {
     "name": "stdout",
     "output_type": "stream",
     "text": [
      "Matrix of zeros\n",
      " [[0. 0. 0.]\n",
      " [0. 0. 0.]\n",
      " [0. 0. 0.]]\n",
      "Matrix of ones\n",
      " [[1. 1. 1.]\n",
      " [1. 1. 1.]\n",
      " [1. 1. 1.]]\n",
      "Matrix of any specifif number\n",
      " [[9 9 9]\n",
      " [9 9 9]\n",
      " [9 9 9]]\n",
      "Matrix of random number\n",
      " [[0.97767544 0.33867256 0.60036694 0.78235741]\n",
      " [0.45402862 0.02015215 0.91804697 0.38810722]\n",
      " [0.7876438  0.80747643 0.56345153 0.20913446]]\n",
      "Matrix of sequence of number starting from 5 to 14, step 2\n",
      " [ 5  7  9 11 13]\n"
     ]
    }
   ],
   "source": [
    "zeros = np.zeros((3,3))\n",
    "print(\"Matrix of zeros\\n\", zeros)\n",
    "\n",
    "ones = np.ones((3,3))\n",
    "print(\"Matrix of ones\\n\", ones)\n",
    "\n",
    "matrix_of_any_specific_number = np.full((3,3),9)\n",
    "print(\"Matrix of any specifif number\\n\", matrix_of_any_specific_number)\n",
    "\n",
    "matrix_of_random_number = np.random.random((3,4))\n",
    "print(\"Matrix of random number\\n\",matrix_of_random_number)\n",
    "\n",
    "sequence = np.arange(5,15,2)\n",
    "print(\"Matrix of sequence of number starting from 5 to 14, step 2\\n\", sequence)"
   ]
  },
  {
   "cell_type": "markdown",
   "id": "e666ecc7",
   "metadata": {},
   "source": [
    "Properties"
   ]
  },
  {
   "cell_type": "code",
   "execution_count": 15,
   "id": "a3693dd4",
   "metadata": {},
   "outputs": [
    {
     "name": "stdout",
     "output_type": "stream",
     "text": [
      "shape :  (2, 3)\n",
      "Dimention :  2\n",
      "Size :  6\n",
      "Data type :  int64\n"
     ]
    }
   ],
   "source": [
    "array = np.array([[12,21,23],[34,23,12]])\n",
    "\n",
    "print(\"shape : \", array.shape)\n",
    "print(\"Dimention : \", array.ndim)\n",
    "print(\"Size : \", array.size)\n",
    "print(\"Data type : \", array.dtype)"
   ]
  },
  {
   "cell_type": "markdown",
   "id": "cd949a2a",
   "metadata": {},
   "source": [
    "Array Reshaping"
   ]
  },
  {
   "cell_type": "code",
   "execution_count": 22,
   "id": "fb58294b",
   "metadata": {},
   "outputs": [
    {
     "name": "stdout",
     "output_type": "stream",
     "text": [
      "Original array :  [1 2 3 4 5 6 7 8 9]\n",
      "reshaped array : \n",
      " [[1 2 3]\n",
      " [4 5 6]\n",
      " [7 8 9]]\n",
      "flattend array : \n",
      " [1 2 3 4 5 6 7 8 9]\n",
      "raveled array : \n",
      " [1 2 3 4 5 6 7 8 9]\n",
      "transposed : \n",
      " [[1 4 7]\n",
      " [2 5 8]\n",
      " [3 6 9]]\n"
     ]
    }
   ],
   "source": [
    "original_array = np.array([1,2,3,4,5,6,7,8,9])\n",
    "print(\"Original array : \", original_array)\n",
    "\n",
    "reshaped = original_array.reshape((3,3))\n",
    "print(\"reshaped array : \\n\", reshaped)\n",
    "\n",
    "flattend = reshaped.flatten()\n",
    "print(\"flattend array : \\n\", flattend)\n",
    "\n",
    "#ravel returns view, instead of copy\n",
    "raveled = reshaped.ravel()\n",
    "print(\"raveled array : \\n\", raveled)\n",
    "\n",
    "transpose = reshaped.T\n",
    "print(\"transposed : \\n\", transpose)"
   ]
  }
 ],
 "metadata": {
  "kernelspec": {
   "display_name": "ML Series (3.13.5)",
   "language": "python",
   "name": "python3"
  },
  "language_info": {
   "codemirror_mode": {
    "name": "ipython",
    "version": 3
   },
   "file_extension": ".py",
   "mimetype": "text/x-python",
   "name": "python",
   "nbconvert_exporter": "python",
   "pygments_lexer": "ipython3",
   "version": "3.13.5"
  }
 },
 "nbformat": 4,
 "nbformat_minor": 5
}
