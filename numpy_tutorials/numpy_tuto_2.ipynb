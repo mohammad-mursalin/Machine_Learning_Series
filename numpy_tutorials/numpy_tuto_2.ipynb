{
 "cells": [
  {
   "cell_type": "markdown",
   "id": "80b14fa3",
   "metadata": {},
   "source": [
    "Operations on Array"
   ]
  },
  {
   "cell_type": "code",
   "execution_count": 1,
   "id": "cd9008a3",
   "metadata": {},
   "outputs": [],
   "source": [
    "import numpy as np"
   ]
  },
  {
   "cell_type": "code",
   "execution_count": 6,
   "id": "c1cc2b3d",
   "metadata": {},
   "outputs": [
    {
     "name": "stdout",
     "output_type": "stream",
     "text": [
      "array :  [0 1 2 3 4 5 6 7 8 9]\n",
      "slicing :  [2 3 4]\n",
      "slicing with step :  [2 5 8]\n"
     ]
    }
   ],
   "source": [
    "array = np.array([0,1,2,3,4,5,6,7,8,9])\n",
    "\n",
    "print(\"array : \", array)\n",
    "print(\"slicing : \", array[2:5])\n",
    "print(\"slicing with step : \", array[2:9:3])\n"
   ]
  },
  {
   "cell_type": "code",
   "execution_count": 7,
   "id": "6287fe67",
   "metadata": {},
   "outputs": [
    {
     "name": "stdout",
     "output_type": "stream",
     "text": [
      "entire row : \n",
      " [5 6 7 8 9]\n",
      "entire column : \n",
      " [ 2  7 12]\n"
     ]
    }
   ],
   "source": [
    "array_2d = np.array([[0,1,2,3,4],\n",
    "                     [5,6,7,8,9],\n",
    "                     [10,11,12,13,14]])\n",
    "\n",
    "print(\"entire row : \\n\", array_2d[1])\n",
    "print(\"entire column : \\n\", array_2d[:, 2])"
   ]
  },
  {
   "cell_type": "markdown",
   "id": "b8f1b413",
   "metadata": {},
   "source": [
    "Sorting"
   ]
  },
  {
   "cell_type": "code",
   "execution_count": 9,
   "id": "f3aad1a7",
   "metadata": {},
   "outputs": [
    {
     "name": "stdout",
     "output_type": "stream",
     "text": [
      "Sorted array :  [1 2 5 5 6 9]\n",
      "Sorted array in descending order :  [9 6 5 5 2 1]\n",
      "Sorted 2D array along axis 0 (row wise sorting) : \n",
      " [[1 2 4]\n",
      " [3 5 6]\n",
      " [5 8 9]]\n",
      "Sorted 2D array along axis 1 (column wise sorting) : \n",
      " [[2 5 9]\n",
      " [1 5 6]\n",
      " [3 4 8]]\n"
     ]
    }
   ],
   "source": [
    "unsorted_array = np.array([5, 2, 9, 1, 5, 6])\n",
    "print(\"Sorted array : \", np.sort(unsorted_array))\n",
    "print(\"Sorted array in descending order : \", np.sort(unsorted_array)[::-1])\n",
    "\n",
    "unsorted_2d_array = np.array([[5, 2, 9],\n",
    "                              [1, 5, 6],\n",
    "                              [3, 8, 4]])\n",
    "print(\"Sorted 2D array along axis 0 (row wise sorting) : \\n\", np.sort(unsorted_2d_array, axis=0))\n",
    "print(\"Sorted 2D array along axis 1 (column wise sorting) : \\n\", np.sort(unsorted_2d_array, axis=1))"
   ]
  },
  {
   "cell_type": "markdown",
   "id": "c81a7a20",
   "metadata": {},
   "source": [
    "##Filtering and Mask"
   ]
  },
  {
   "cell_type": "code",
   "execution_count": 6,
   "id": "8c48e3d9",
   "metadata": {},
   "outputs": [
    {
     "name": "stdout",
     "output_type": "stream",
     "text": [
      "Array with elements greater than 5 :  [ 6  7  8  9 10]\n",
      "Mask for elements less than 5 :  [ True  True  True  True False False False False False False]\n",
      "Elements less than 5 using mask :  [1 2 3 4]\n",
      "Elements at specified indices :  [1 3 5 7 9]\n",
      "Where condition for elements greater than 5 :  (array([5, 6, 7, 8, 9]),)\n",
      "Indices of elements greater than 5 :  [5 6 7 8 9]\n",
      "Elements greater than 5 using np.where :  [ 6  7  8  9 10]\n",
      "Condition array with elements less than 5 replaced by -1 :  [ 1  2  3  4 -1 -1 -1 -1 -1 -1]\n"
     ]
    }
   ],
   "source": [
    "array = np.array([1,2,3,4,5,6,7,8,9,10])\n",
    "print(\"Array with elements greater than 5 : \", array[array > 5])\n",
    "mask = array < 5\n",
    "print(\"Mask for elements less than 5 : \", mask)\n",
    "print(\"Elements less than 5 using mask : \", array[mask])\n",
    "\n",
    "indeces = np.array([0, 2, 4, 6, 8])\n",
    "print(\"Elements at specified indices : \", array[indeces])\n",
    "\n",
    "where_condition = np.where(array > 5)\n",
    "print(\"Where condition for elements greater than 5 : \", where_condition)\n",
    "print(\"Indices of elements greater than 5 : \", where_condition[0])\n",
    "print(\"Elements greater than 5 using np.where : \", array[where_condition])\n",
    "\n",
    "condition_arraay = np.where(array < 5, array, -1)\n",
    "print(\"Condition array with elements less than 5 replaced by -1 : \", condition_arraay)\n"
   ]
  },
  {
   "cell_type": "markdown",
   "id": "6e86b217",
   "metadata": {},
   "source": [
    "arrat adding and concating"
   ]
  },
  {
   "cell_type": "code",
   "execution_count": 15,
   "id": "2317c40a",
   "metadata": {},
   "outputs": [
    {
     "name": "stdout",
     "output_type": "stream",
     "text": [
      "Concatenated array :  [1 2 3 4 5 6]\n",
      "adding in row : \n",
      " [[1 2 3]\n",
      " [4 5 6]\n",
      " [1 2 3]]\n",
      "adding in column : \n",
      " [[1 2 3 1 3]\n",
      " [4 5 6 2 4]]\n",
      "compatibility :  True\n"
     ]
    }
   ],
   "source": [
    "array_1 = np.array([1, 2, 3])\n",
    "array_2 = np.array([4, 5, 6])\n",
    "array_result = np.concatenate((array_1, array_2))\n",
    "\n",
    "print(\"Concatenated array : \", array_result)\n",
    "\n",
    "array_2d = np.array([[1, 2, 3],[4, 5, 6]])\n",
    "print(\"adding in row : \\n\", np.vstack((array_2d, array_1)))\n",
    "print(\"adding in column : \\n\", np.hstack((array_2d, np.array([[1,3],[2,4]]))))\n",
    "\n",
    "print(\"compatibility : \", np.shape(array_1) == np.shape(array_2))\n",
    "\n"
   ]
  }
 ],
 "metadata": {
  "kernelspec": {
   "display_name": "ML Series (3.13.5)",
   "language": "python",
   "name": "python3"
  },
  "language_info": {
   "codemirror_mode": {
    "name": "ipython",
    "version": 3
   },
   "file_extension": ".py",
   "mimetype": "text/x-python",
   "name": "python",
   "nbconvert_exporter": "python",
   "pygments_lexer": "ipython3",
   "version": "3.13.5"
  }
 },
 "nbformat": 4,
 "nbformat_minor": 5
}
